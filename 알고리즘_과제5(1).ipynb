{
  "cells": [
    {
      "cell_type": "markdown",
      "metadata": {
        "id": "view-in-github",
        "colab_type": "text"
      },
      "source": [
        "<a href=\"https://colab.research.google.com/github/wantfree8937/wantfree8937/blob/main/%EC%95%8C%EA%B3%A0%EB%A6%AC%EC%A6%98_%EA%B3%BC%EC%A0%9C5(1).ipynb\" target=\"_parent\"><img src=\"https://colab.research.google.com/assets/colab-badge.svg\" alt=\"Open In Colab\"/></a>"
      ]
    },
    {
      "cell_type": "markdown",
      "metadata": {
        "id": "iKRAOy5HQ3ke"
      },
      "source": [
        "# (실습) 시간 복잡도"
      ]
    },
    {
      "cell_type": "markdown",
      "metadata": {
        "id": "JE3AlW-_Q3kj"
      },
      "source": [
        "## Big-O 관련"
      ]
    },
    {
      "cell_type": "markdown",
      "metadata": {
        "id": "J6ClkXonQ3kk"
      },
      "source": [
        "**문제 1**"
      ]
    },
    {
      "cell_type": "markdown",
      "metadata": {
        "id": "jkqLqI2LQ3kk"
      },
      "source": [
        "아래 코드의 시간복잡도를 Big-O로 표기하라.\n",
        "\n",
        "```python\n",
        "i = n\n",
        "while i > 0:\n",
        "    k = 2 + 2\n",
        "    i = i // 2\n",
        "```"
      ]
    },
    {
      "cell_type": "markdown",
      "source": [
        "답:  $O(log n)$"
      ],
      "metadata": {
        "id": "f2ojaCmiZbBm"
      }
    },
    {
      "cell_type": "markdown",
      "metadata": {
        "id": "-BT5RzIzQ3kl"
      },
      "source": [
        "**문제 2**"
      ]
    },
    {
      "cell_type": "markdown",
      "metadata": {
        "id": "l-AITD3xQ3kl"
      },
      "source": [
        "아래 코드의 시간복잡도를 Big-O로 표기하라.\n",
        "\n",
        "```python\n",
        "p = 0\n",
        "for i in range(n):\n",
        "    p = p + 1\n",
        "\n",
        "for j in range(n):\n",
        "    p = p - 1\n",
        "```"
      ]
    },
    {
      "cell_type": "markdown",
      "source": [
        "답: $O(n)$"
      ],
      "metadata": {
        "id": "YaRCqOTk3x39"
      }
    },
    {
      "cell_type": "markdown",
      "metadata": {
        "id": "da5Bv-m0Q3km"
      },
      "source": [
        "**문제 3**"
      ]
    },
    {
      "cell_type": "markdown",
      "metadata": {
        "id": "tfkDOVjWQ3km"
      },
      "source": [
        "아래 코드의 시간복잡도를 Big-O로 표기하라.\n",
        "\n",
        "```python\n",
        "p = 0\n",
        "for i in range(n):\n",
        "    for j in range(n):\n",
        "        p += i * j\n",
        "```"
      ]
    },
    {
      "cell_type": "markdown",
      "source": [
        "답: $O(n^2)$"
      ],
      "metadata": {
        "id": "yd7MHlCB3-Z4"
      }
    },
    {
      "cell_type": "markdown",
      "metadata": {
        "id": "-riw5VW4Q3kn"
      },
      "source": [
        "**문제 4**"
      ]
    },
    {
      "cell_type": "markdown",
      "metadata": {
        "id": "3hxYvxjsQ3kn"
      },
      "source": [
        "아래 코드의 시간복잡도를 Big-O 로 나타내라.\n",
        "\n",
        "```python\n",
        "p = 0\n",
        "for i in range(n):\n",
        "    for j in range(n):\n",
        "        for k in range(n):\n",
        "            p += i + j + k\n",
        "```"
      ]
    },
    {
      "cell_type": "markdown",
      "source": [
        "답: $O(n^3)$"
      ],
      "metadata": {
        "id": "nJWagu4g5R6j"
      }
    },
    {
      "cell_type": "markdown",
      "metadata": {
        "id": "-JZ8GehHQ3ko"
      },
      "source": [
        "## 탐색 관련"
      ]
    },
    {
      "cell_type": "markdown",
      "metadata": {
        "id": "aaeInB6QQ3ko"
      },
      "source": [
        "**문제 1**"
      ]
    },
    {
      "cell_type": "markdown",
      "metadata": {
        "id": "HURjq3XzQ3ko"
      },
      "source": [
        "길이가 $n$인 리스트에 포함된 항목들의 최솟값을 구하는 두 개의 함수를 구현하라.\n",
        "\n",
        "- 방법 1: 각 항목을 다른 모든 항목과 비교. 일정 시간복잡도는 $T(n) \\in O(n^2)$.\n",
        "- 방법 2: $T(n) \\in O(n)$, 즉, 선형 시간복잡도를 갖도록 구현할 것.\n",
        "\n",
        "*참고*: [유튜브: findMin](https://www.youtube.com/watch?v=p0COF_m6H1c)"
      ]
    },
    {
      "cell_type": "markdown",
      "source": [
        "```python\n",
        "def findMind(alist):\n",
        "  overallmin = alist[0]\n",
        "  for i in alist:\n",
        "    issmallest = True\n",
        "    for j in alist:\n",
        "        if i > j:\n",
        "          issmallest = False\n",
        "    if issmallest:\n",
        "      overallmin = i\n",
        "  return overallmin\n",
        "\n",
        "\n",
        "def findMind(alist):\n",
        "  minsofar = alist[0]\n",
        "  for i in alist:\n",
        "      if i > minsofar:\n",
        "        minsofar = i\n",
        "  return minsofar\n",
        "```"
      ],
      "metadata": {
        "id": "MxVt111UE6TZ"
      }
    },
    {
      "cell_type": "markdown",
      "metadata": {
        "id": "wvEZG_LjQ3ko"
      },
      "source": [
        "**문제 2**"
      ]
    },
    {
      "cell_type": "markdown",
      "metadata": {
        "id": "sIuUwYygQ3kp"
      },
      "source": [
        "길이가 $n$인 리스트에 포함된 항목들 중에서 가장 작은 항목(값) $m$ 개를\n",
        "찾아 내는 함수를 구현하라.\n",
        "단, 동일한 값이 여러 개가 있어 $m$개 보다 많을 경우 인덱스 기준으로 작은 인덱스에 위치한 값을 택한다.\n",
        "또한 해당 함수가 사용하는 알고리즘의 시간복잡도를 계산하라.\n",
        "단, 일정 시간복잡도가 존재하면 일정 시간복잡도를, 아니라면 최악 시간복잡도를 계산한다.\n"
      ]
    },
    {
      "cell_type": "markdown",
      "source": [
        "``` python\n",
        "def findMin(alist):\n",
        "  count = 0\n",
        "  for i in alist:\n",
        "    issmallest = True\n",
        "    for j in alist:\n",
        "      if i > j:\n",
        "        issmallest = False\n",
        "        count += 1\n",
        "  return count\n",
        "```\n",
        "$O(n^2)$"
      ],
      "metadata": {
        "id": "KvF4qA_PLjB1"
      }
    },
    {
      "cell_type": "markdown",
      "metadata": {
        "id": "_lT-1hhBQ3kp"
      },
      "source": [
        "**문제 3**"
      ]
    },
    {
      "cell_type": "markdown",
      "metadata": {
        "id": "4BAUHgatQ3kp"
      },
      "source": [
        "길이가 $n$인 리스트에 포함된 항목들 중에서 최댓값과 최솟값을 찾아 내는 함수를 구현하라.\n",
        "단, 함수를 실행할 때 최대 $(1.5\\times n)$ 번의 비교가 실행되어야 한다.\n"
      ]
    },
    {
      "cell_type": "markdown",
      "source": [
        "``` python\n",
        "def findMin(alist):\n",
        "  overallmin  = alist[0]\n",
        "  overallmax  = alist[0]\n",
        "  for i in alist:\n",
        "    issmallest = True\n",
        "    isbiggest = True\n",
        "    for j in alist:\n",
        "      if i > j:\n",
        "        issmallest = False\n",
        "      elif i < j:\n",
        "        isbiggest = False\n",
        "    if issmallest:\n",
        "        overallmin = i\n",
        "    elif isbiggest:\n",
        "        overallmax = i\n",
        "  return (overallmax, overallmin)\n",
        "```"
      ],
      "metadata": {
        "id": "J29O8fWTXKjc"
      }
    },
    {
      "cell_type": "markdown",
      "metadata": {
        "id": "kH3jjtpFQ3kp"
      },
      "source": [
        "## 어구전철 관련"
      ]
    },
    {
      "cell_type": "markdown",
      "metadata": {
        "id": "0CuIqBzQQ3kp"
      },
      "source": [
        "**문제 1**"
      ]
    },
    {
      "cell_type": "markdown",
      "metadata": {
        "id": "1wZV1xDfQ3kq"
      },
      "source": [
        "아래 함수는 두 문자열의 어구전철 여부를 확인하기 위해 각 문자의 사용 빈도를 활용한다."
      ]
    },
    {
      "cell_type": "code",
      "execution_count": 1,
      "metadata": {
        "id": "pVrSltPeQ3kq"
      },
      "outputs": [],
      "source": [
        "def anagram_solution_4(s1, s2):\n",
        "\n",
        "    # 빈도 저장 용도 리스트\n",
        "    c1 = [0] * 26\n",
        "\n",
        "    # s1에 포함된 문자들의 빈도\n",
        "    for i in range(len(s1)):\n",
        "        pos = ord(s1[i]) - ord(\"a\")\n",
        "        c1[pos] = c1[pos] + 1          # 기본 계산단위: 카운트\n",
        "\n",
        "    # s2에 포함된 문자들의 빈도\n",
        "    for i in range(len(s2)):\n",
        "        pos = ord(s2[i]) - ord(\"a\")\n",
        "        c1[pos] = c1[pos] + 1          # 기본 계산단위: 카운트\n",
        "\n",
        "    # 모든 알파벳 대상 빈도 비교\n",
        "    j = 0\n",
        "    still_ok = True\n",
        "    while j < 26 and still_ok:\n",
        "        if c1[j] % 2 == 0:             # 기본 계산단위: 항목 비교\n",
        "            j = j + 1\n",
        "        else:\n",
        "            still_ok = False\n",
        "\n",
        "    return still_ok"
      ]
    },
    {
      "cell_type": "markdown",
      "metadata": {
        "id": "F1WiLVvqQ3kr"
      },
      "source": [
        "그런데 위 함수는 두 문자열에 각각 하나씩 빈도 저장 어레이를 사용한다.\n",
        "하나의 빈도 저장 어레이만 사용하도록 위 알고리즘을 수정한 다음 수정된 알고리즘의 시간복잡도를 계산하라."
      ]
    },
    {
      "cell_type": "markdown",
      "source": [
        "$T(n) = n + 26 \\in O(n)$"
      ],
      "metadata": {
        "id": "I0JlLvQGe4d_"
      }
    }
  ],
  "metadata": {
    "kernelspec": {
      "display_name": "Python 3 (ipykernel)",
      "language": "python",
      "name": "python3"
    },
    "language_info": {
      "codemirror_mode": {
        "name": "ipython",
        "version": 3
      },
      "file_extension": ".py",
      "mimetype": "text/x-python",
      "name": "python",
      "nbconvert_exporter": "python",
      "pygments_lexer": "ipython3",
      "version": "3.11.4"
    },
    "vscode": {
      "interpreter": {
        "hash": "ad0f3c8a064f687cbf898a0868fd45ba1c7e928ac8a0404f7c241d812ddc1e76"
      }
    },
    "colab": {
      "provenance": [],
      "include_colab_link": true
    }
  },
  "nbformat": 4,
  "nbformat_minor": 0
}