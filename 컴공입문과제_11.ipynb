{
  "cells": [
    {
      "cell_type": "markdown",
      "metadata": {
        "id": "view-in-github",
        "colab_type": "text"
      },
      "source": [
        "<a href=\"https://colab.research.google.com/github/wantfree8937/wantfree8937/blob/main/%EC%BB%B4%EA%B3%B5%EC%9E%85%EB%AC%B8%EA%B3%BC%EC%A0%9C_11.ipynb\" target=\"_parent\"><img src=\"https://colab.research.google.com/assets/colab-badge.svg\" alt=\"Open In Colab\"/></a>"
      ]
    },
    {
      "cell_type": "markdown",
      "metadata": {
        "id": "Q_n9VXywlqbf"
      },
      "source": [
        "# (실습) 파일"
      ]
    },
    {
      "cell_type": "markdown",
      "metadata": {
        "id": "PVD-SDpklqbl"
      },
      "source": [
        "**기본 설정**"
      ]
    },
    {
      "cell_type": "markdown",
      "metadata": {
        "id": "QvGK_QBzlqbm"
      },
      "source": [
        "파일 저장 경로와 파일 서버 주소를 지정에 필요한 기본 설정을 지정한다."
      ]
    },
    {
      "cell_type": "code",
      "execution_count": 1,
      "metadata": {
        "id": "iDMvZpDOlqbn"
      },
      "outputs": [],
      "source": [
        "from pathlib import Path\n",
        "from urllib.request import urlretrieve"
      ]
    },
    {
      "cell_type": "markdown",
      "metadata": {
        "id": "vzDu1mhulqbq"
      },
      "source": [
        "데이터가 저장된 텍스트 파일 서버 주소는 다음과 같다."
      ]
    },
    {
      "cell_type": "code",
      "execution_count": 2,
      "metadata": {
        "id": "RbL2OQrylqbq"
      },
      "outputs": [],
      "source": [
        "base_url = \"https://raw.githubusercontent.com/codingalzi/pybook/master/jupyter-book/data/\""
      ]
    },
    {
      "cell_type": "markdown",
      "metadata": {
        "id": "5fvRo9Eulqbr"
      },
      "source": [
        "현재 작업 디렉토리의 `data` 하위 디렉토리에 파일을 다운로드해서 저장할 준비를 한다."
      ]
    },
    {
      "cell_type": "code",
      "execution_count": 3,
      "metadata": {
        "id": "lKXeH54flqbs"
      },
      "outputs": [],
      "source": [
        "# 저장위치 지정과 생성\n",
        "data_path = Path() / \"data\"\n",
        "data_path.mkdir(parents=True, exist_ok=True)"
      ]
    },
    {
      "cell_type": "markdown",
      "metadata": {
        "id": "1IcPDjHMlqbt"
      },
      "source": [
        "`myWget()` 함수는 파일 서버에서 지정된 파일을 동일한 파일명으로 지정된 디렉토리에 저장한다."
      ]
    },
    {
      "cell_type": "code",
      "execution_count": 4,
      "metadata": {
        "id": "wux_IVDglqbu"
      },
      "outputs": [],
      "source": [
        "def myWget(filename):\n",
        "    # 다운로드 대상 파일 경로\n",
        "    file_url = base_url + filename\n",
        "\n",
        "    # 저장 경로와 파일명\n",
        "    target_path = data_path / filename\n",
        "\n",
        "    return urlretrieve(file_url, target_path)"
      ]
    },
    {
      "cell_type": "markdown",
      "metadata": {
        "id": "Wku2XRTdlqbu"
      },
      "source": [
        "**쇼핑몰 파일 관련**"
      ]
    },
    {
      "cell_type": "markdown",
      "metadata": {
        "id": "b7KCrRB8lqbv"
      },
      "source": [
        "**문제 1**"
      ]
    },
    {
      "cell_type": "markdown",
      "metadata": {
        "id": "gSF_tBKvfg9V"
      },
      "source": [
        "`shopA.txt` 파일은 쇼핑몰A에서 판매하는 상품의 가격을 담고 있음을 확인해보자.\n",
        "먼저 해당 파일을 다운로드 한다."
      ]
    },
    {
      "cell_type": "code",
      "execution_count": 5,
      "metadata": {
        "id": "TvclqpF5lqbw",
        "outputId": "5a750e8b-0a4e-48ce-d71a-6887fbaf14b0",
        "colab": {
          "base_uri": "https://localhost:8080/"
        }
      },
      "outputs": [
        {
          "output_type": "execute_result",
          "data": {
            "text/plain": [
              "(PosixPath('data/shopA.txt'), <http.client.HTTPMessage at 0x7fdb9408a950>)"
            ]
          },
          "metadata": {},
          "execution_count": 5
        }
      ],
      "source": [
        "myWget(\"shopA.txt\")"
      ]
    },
    {
      "cell_type": "markdown",
      "metadata": {
        "id": "J2Omj1sRlqbx"
      },
      "source": [
        "이제 파일 전체 내용을 출력하는 코드를 작성하라.\n",
        "\n",
        "힌트: `with-as` 명령문, `open()` 함수, `readlines()` 또는 `read()` 파일 메서드."
      ]
    },
    {
      "cell_type": "code",
      "execution_count": 6,
      "metadata": {
        "id": "mrPromzMlqbx",
        "colab": {
          "base_uri": "https://localhost:8080/"
        },
        "outputId": "b71745fb-7434-4292-b149-31019f51acbb"
      },
      "outputs": [
        {
          "output_type": "stream",
          "name": "stdout",
          "text": [
            "#쇼핑몰 A\n",
            "\n",
            "우유 2540원\n",
            "계란 7480원\n",
            "생수 980원\n",
            "짜장라면 3220원\n",
            "두부 1450원\n",
            "콩나물 1680원\n",
            "김 5480원\n",
            "닭고기 5980원\n",
            "식빵 2480원\n",
            "바나나 4980원\n",
            "오레ㄴ지 990원\n",
            "카레 2480원\n",
            "만두 6980원\n",
            "어묵 7980원\n",
            "참치 11880원\n",
            "김치 7980원\n",
            "간장 10800원\n"
          ]
        }
      ],
      "source": [
        "# 코드를 작성하세요.\n",
        "\n",
        "with open(\"data/shopA.txt\", mode=\"r\") as f:\n",
        "  lines = f.read()\n",
        "\n",
        "print(lines)"
      ]
    },
    {
      "cell_type": "markdown",
      "metadata": {
        "id": "w86OM5AKF6-o"
      },
      "source": [
        "**문제 2**"
      ]
    },
    {
      "cell_type": "markdown",
      "metadata": {
        "id": "dVe6tYetAdhc"
      },
      "source": [
        "`shopA.txt` 파일의 내용을 확인하면, 오타가 있다. \n",
        "'오레ㄴ지' 를 '오렌지'로 변경한 후에\n",
        "`shopA.txt` 파일을 열어 오타가 수정되었는지를 확인하여라.  \n",
        "\n",
        "힌트: 파일의 `read()` 메서드, 문자열의 `replace()` 메서드"
      ]
    },
    {
      "cell_type": "markdown",
      "metadata": {
        "id": "TidiYwKvlqbz"
      },
      "source": [
        "* 파일 읽기: `read()` 메서드 활용"
      ]
    },
    {
      "cell_type": "code",
      "execution_count": 7,
      "metadata": {
        "id": "hGuI0EURlqbz",
        "colab": {
          "base_uri": "https://localhost:8080/",
          "height": 54
        },
        "outputId": "0bfcf9d4-91e8-4784-fd63-1c6192b78186"
      },
      "outputs": [
        {
          "output_type": "execute_result",
          "data": {
            "text/plain": [
              "'#쇼핑몰 A\\n\\n우유 2540원\\n계란 7480원\\n생수 980원\\n짜장라면 3220원\\n두부 1450원\\n콩나물 1680원\\n김 5480원\\n닭고기 5980원\\n식빵 2480원\\n바나나 4980원\\n오레ㄴ지 990원\\n카레 2480원\\n만두 6980원\\n어묵 7980원\\n참치 11880원\\n김치 7980원\\n간장 10800원'"
            ],
            "application/vnd.google.colaboratory.intrinsic+json": {
              "type": "string"
            }
          },
          "metadata": {},
          "execution_count": 7
        }
      ],
      "source": [
        "# 파일내용을 하나의 문자열로 생성하는 코드를 작성하라.\n",
        "with open(\"data/shopA.txt\", mode=\"r\") as f:\n",
        "  lines = f.read()\n",
        "lines"
      ]
    },
    {
      "cell_type": "markdown",
      "metadata": {
        "id": "t8YP5yMKlqbz"
      },
      "source": [
        "* 오타 수정: `replace()` 문자열 메서드 활용"
      ]
    },
    {
      "cell_type": "code",
      "execution_count": 8,
      "metadata": {
        "id": "E1IFGQ_rlqb0"
      },
      "outputs": [],
      "source": [
        "# 오타를 수정하는 코드를 작성하라.\n",
        "fix_lines = lines.replace(\"오레ㄴ지\",\"오렌지\")"
      ]
    },
    {
      "cell_type": "markdown",
      "metadata": {
        "id": "Y0bm-p4nlqb0"
      },
      "source": [
        "* 파일 저장"
      ]
    },
    {
      "cell_type": "code",
      "execution_count": 9,
      "metadata": {
        "id": "xW0qRp_Nlqb0"
      },
      "outputs": [],
      "source": [
        "# 오타가 수정된 문자열을 파일로 저장하는 코드를 작성하라.\n",
        "\n",
        "with open(\"data/shopA.txt\", mode=\"w\") as f:\n",
        "  f.write(fix_lines)"
      ]
    },
    {
      "cell_type": "markdown",
      "metadata": {
        "id": "Ea47ElGOlqb1"
      },
      "source": [
        "* 파일 내용 확인"
      ]
    },
    {
      "cell_type": "code",
      "execution_count": 10,
      "metadata": {
        "id": "m8pQU0Nylqb1",
        "colab": {
          "base_uri": "https://localhost:8080/"
        },
        "outputId": "b49dfdf9-c5cd-44f6-c077-17e0192eca99"
      },
      "outputs": [
        {
          "output_type": "stream",
          "name": "stdout",
          "text": [
            "#쇼핑몰 A\n",
            "\n",
            "우유 2540원\n",
            "계란 7480원\n",
            "생수 980원\n",
            "짜장라면 3220원\n",
            "두부 1450원\n",
            "콩나물 1680원\n",
            "김 5480원\n",
            "닭고기 5980원\n",
            "식빵 2480원\n",
            "바나나 4980원\n",
            "오렌지 990원\n",
            "카레 2480원\n",
            "만두 6980원\n",
            "어묵 7980원\n",
            "참치 11880원\n",
            "김치 7980원\n",
            "간장 10800원\n"
          ]
        }
      ],
      "source": [
        "# 오타가 수정되었음을 확인하는 코드를 작성하라.\n",
        "\n",
        "with open(\"data/shopA.txt\", mode=\"r\") as f:\n",
        "  new_line = f.read()\n",
        "print(new_line)"
      ]
    },
    {
      "cell_type": "markdown",
      "metadata": {
        "id": "BF0JoTyplqb1"
      },
      "source": [
        "**문제 3**"
      ]
    },
    {
      "cell_type": "markdown",
      "metadata": {
        "id": "egoqIohm-4a8"
      },
      "source": [
        "상품명과 가격을 키-값의 쌍으로 갖는 아래 모양의 딕셔너리를 만들어라.\n",
        "단, 오타가 수정된 파일을 이용해야 한다.\n",
        "\n",
        "```python\n",
        "{'우유': 2540,\n",
        " '계란': 7480,\n",
        " '생수': 980,\n",
        " '짜장라면': 3220,\n",
        " '두부': 1450,\n",
        " '콩나물': 1680,\n",
        " '김': 5480,\n",
        " '닭고기': 5980,\n",
        " '식빵': 2480,\n",
        " '바나나': 4980,\n",
        " '오렌지': 990,\n",
        " '카레': 2480,\n",
        " '만두': 6980,\n",
        " '어묵': 7980,\n",
        " '참치': 11880,\n",
        " '김치': 7980,\n",
        " '간장': 10800}\n",
        "```"
      ]
    },
    {
      "cell_type": "code",
      "source": [
        "with open(\"data/shopA.txt\") as f:\n",
        "  results_dict = {}\n",
        "  for line in f:\n",
        "    if line != \"\\n\":          # '\\n'이 있으면 변수 두개 지정시 오류\n",
        "      name, price = line.strip().split()\n",
        "      if name != \"#쇼핑몰\":        # '#쇼핑몰 A'제거 \n",
        "        results_dict[name] = price\n",
        "print(results_dict)"
      ],
      "metadata": {
        "colab": {
          "base_uri": "https://localhost:8080/"
        },
        "id": "wA6Bqs-gyQ5a",
        "outputId": "160a3a18-3321-41b5-a1fd-13a51abc3875"
      },
      "execution_count": 11,
      "outputs": [
        {
          "output_type": "stream",
          "name": "stdout",
          "text": [
            "{'우유': '2540원', '계란': '7480원', '생수': '980원', '짜장라면': '3220원', '두부': '1450원', '콩나물': '1680원', '김': '5480원', '닭고기': '5980원', '식빵': '2480원', '바나나': '4980원', '오렌지': '990원', '카레': '2480원', '만두': '6980원', '어묵': '7980원', '참치': '11880원', '김치': '7980원', '간장': '10800원'}\n"
          ]
        }
      ]
    },
    {
      "cell_type": "markdown",
      "metadata": {
        "id": "agiH0quMBxIb"
      },
      "source": [
        "**문제 4** "
      ]
    },
    {
      "cell_type": "markdown",
      "metadata": {
        "id": "Qo-F01eqlqb2"
      },
      "source": [
        "`shopA.txt` 와 같이 상품명과 가격으로 이루어진 쇼핑 리스트가 포함된 파일의 이름을 입력받으면\n",
        "상품명과 가격을 각각 키와 값으로 갖는 사전 객체를 반환하는 함수 `shopping()` 을 구현하라.\n",
        "\n",
        "힌트: 문제 3을 해결하기 위해 작성한 코드를 이용한다."
      ]
    },
    {
      "cell_type": "code",
      "execution_count": 12,
      "metadata": {
        "colab": {
          "base_uri": "https://localhost:8080/"
        },
        "id": "88mjQ9cRNZ2W",
        "outputId": "b8193f78-8ef4-4706-bc31-c12c13aa624a"
      },
      "outputs": [
        {
          "output_type": "stream",
          "name": "stdout",
          "text": [
            "{'우유': '2540원', '계란': '7480원', '생수': '980원', '짜장라면': '3220원', '두부': '1450원', '콩나물': '1680원', '김': '5480원', '닭고기': '5980원', '식빵': '2480원', '바나나': '4980원', '오렌지': '990원', '카레': '2480원', '만두': '6980원', '어묵': '7980원', '참치': '11880원', '김치': '7980원', '간장': '10800원'}\n"
          ]
        }
      ],
      "source": [
        "# 아래 코드를 완성하라. \n",
        "\n",
        "def shopping(shop_file):\n",
        "    shop_dict = {} # 생성할 사전 객체\n",
        "\n",
        "    with open(\"data/\"+ shop_file) as f:\n",
        "      for line in f:\n",
        "        if line != \"\\n\":\n",
        "          name, price = line.strip().split()\n",
        "          if name != \"#쇼핑몰\":\n",
        "            shop_dict[name] = price\n",
        "\n",
        "    return shop_dict\n",
        "\n",
        "print(shopping(\"shopA.txt\"))"
      ]
    },
    {
      "cell_type": "markdown",
      "metadata": {
        "id": "LiyjdB2-lqb3"
      },
      "source": [
        "**문제 5**"
      ]
    },
    {
      "cell_type": "markdown",
      "metadata": {
        "id": "HjYVtYpwB5C2"
      },
      "source": [
        "쇼핑 리스트와 상품을 인자로 지정하면 상품의 가격을 반환하는 함수 `item_price()` 를 구현하라.\n",
        "\n",
        "힌트: `shopping()` 함수를 이용한다."
      ]
    },
    {
      "cell_type": "code",
      "execution_count": 13,
      "metadata": {
        "colab": {
          "base_uri": "https://localhost:8080/"
        },
        "id": "WOsM3ngUOuAe",
        "outputId": "f37eb1f6-6eda-4563-f011-a2e1fed6f15c"
      },
      "outputs": [
        {
          "output_type": "stream",
          "name": "stdout",
          "text": [
            "7980원\n"
          ]
        }
      ],
      "source": [
        "# 함수를 완성하라.\n",
        "\n",
        "def item_price(shop_file, item):\n",
        "   return shopping(shop_file)[item]\n",
        "\n",
        "print(item_price(\"shopA.txt\", '김치'))"
      ]
    },
    {
      "cell_type": "markdown",
      "metadata": {
        "id": "wSsmWdxtlqb4"
      },
      "source": [
        "**문제 6**"
      ]
    },
    {
      "cell_type": "markdown",
      "metadata": {
        "id": "pkua4TgcEgut"
      },
      "source": [
        "`shopB.txt` 파일은 쇼핑몰B에서 판매하는 상품의 가격을 담고 있으며,\n",
        "`shopA.txt` 파일과 동일한 방식으로 다운로드할 수 있다."
      ]
    },
    {
      "cell_type": "code",
      "execution_count": 14,
      "metadata": {
        "id": "yN_B5BKOlqb4",
        "outputId": "8744ce02-64ab-40e7-c777-b54286d1d69c",
        "colab": {
          "base_uri": "https://localhost:8080/"
        }
      },
      "outputs": [
        {
          "output_type": "execute_result",
          "data": {
            "text/plain": [
              "(PosixPath('data/shopB.txt'), <http.client.HTTPMessage at 0x7fdb9408b1f0>)"
            ]
          },
          "metadata": {},
          "execution_count": 14
        }
      ],
      "source": [
        "myWget(\"shopB.txt\")"
      ]
    },
    {
      "cell_type": "markdown",
      "metadata": {
        "id": "c4wl66tFlqb5"
      },
      "source": [
        "사용자가 상품을 입력하면, 쇼핑몰A와 쇼핑몰B 중 어느 쇼핑몰에서 구입하는 것이 얼마나 저렴한지를 보여주는\n",
        "함수 `price_comparison()`를 작성하라."
      ]
    },
    {
      "cell_type": "code",
      "execution_count": 15,
      "metadata": {
        "id": "OT0jqK9nlqb5",
        "outputId": "ff3ba565-20ef-4566-fd6b-99d95a03dd47",
        "colab": {
          "base_uri": "https://localhost:8080/"
        }
      },
      "outputs": [
        {
          "output_type": "stream",
          "name": "stdout",
          "text": [
            "쇼핑몰A가 더 저렴함. 가격: 7980원\n"
          ]
        }
      ],
      "source": [
        "# 코드를 완성하라.\n",
        "\n",
        "def price_comparison(item):\n",
        "  itemA = item_price(\"shopA.txt\",item)\n",
        "  itemB = item_price(\"shopB.txt\",item)\n",
        "  itemA_int = int(itemA.replace(\"원\",\"\"))\n",
        "  itemB_int = int(itemB.replace(\"원\",\"\"))\n",
        "  if itemA_int < itemB_int:\n",
        "    return \"쇼핑몰A가 더 저렴함. 가격: \" + itemA\n",
        "  else:\n",
        "    return \"쇼핑몰B가 더 저렴함. 가격: \" + itemB\n",
        "\n",
        "print(price_comparison('김치'))"
      ]
    },
    {
      "cell_type": "markdown",
      "metadata": {
        "id": "FInvd_G7lqcD"
      },
      "source": [
        "**다이빙 기록 관련**"
      ]
    },
    {
      "cell_type": "markdown",
      "metadata": {
        "id": "6qi_VGurlqcE"
      },
      "source": [
        "**문제 7**"
      ]
    },
    {
      "cell_type": "markdown",
      "metadata": {
        "id": "r3R5Z3JclqcE"
      },
      "source": [
        "[5미터 다이빙 기록 에서 등수를 확인하는 작업](https://codingalzi.github.io/pybook/files.html#sec-exp-diving-5m)과 \n",
        "동일한 작업을 10미터 다이빙 기록에 대해 진행하라."
      ]
    },
    {
      "cell_type": "code",
      "execution_count": 16,
      "metadata": {
        "id": "qTueYXTxlqcE",
        "colab": {
          "base_uri": "https://localhost:8080/"
        },
        "outputId": "f7c66899-e923-4ca8-8f4d-bbfe81ca56e2"
      },
      "outputs": [
        {
          "output_type": "execute_result",
          "data": {
            "text/plain": [
              "(PosixPath('data/results10m.txt'), <http.client.HTTPMessage at 0x7fdb9408b4c0>)"
            ]
          },
          "metadata": {},
          "execution_count": 16
        }
      ],
      "source": [
        "# 코드를 작성하라.\n",
        "myWget(\"results10m.txt\")"
      ]
    },
    {
      "cell_type": "code",
      "source": [
        "scores_10m = []\n",
        "\n",
        "with open(\"data/results10m.txt\", \"r\") as f:\n",
        "  for line in f:\n",
        "    s_10m = line.split()[1]\n",
        "    try:\n",
        "      scores_10m.append(float(s_10m))\n",
        "    except:\n",
        "      continue"
      ],
      "metadata": {
        "id": "YlgwhXgo1WXo"
      },
      "execution_count": 17,
      "outputs": []
    },
    {
      "cell_type": "code",
      "source": [
        "scores_10m"
      ],
      "metadata": {
        "colab": {
          "base_uri": "https://localhost:8080/"
        },
        "id": "mla-qfkC3ync",
        "outputId": "ad7e9241-abb3-44ee-aa26-69cae40f9165"
      },
      "execution_count": 18,
      "outputs": [
        {
          "output_type": "execute_result",
          "data": {
            "text/plain": [
              "[9.11, 8.35, 7.12, 8.65, 9.31, 8.71, 7.33, 9.11, 8.75, 8.39]"
            ]
          },
          "metadata": {},
          "execution_count": 18
        }
      ]
    },
    {
      "cell_type": "code",
      "source": [
        "set_scores_10m = list(set(scores_10m))  # 중복제거\n",
        "set_scores_10m.sort(reverse = True)\n",
        "print(\"1, 2, 3등의 점수는 다음과 같습니다.\\n\")\n",
        "print(f\"1등: {set_scores_10m[0]}\")\n",
        "print(f\"2등: {set_scores_10m[1]}\")\n",
        "print(f\"3등: {set_scores_10m[2]}\")"
      ],
      "metadata": {
        "colab": {
          "base_uri": "https://localhost:8080/"
        },
        "id": "62vl1VdF4kHV",
        "outputId": "01f718e6-146d-4da7-a6c5-0afbb1521b8e"
      },
      "execution_count": 19,
      "outputs": [
        {
          "output_type": "stream",
          "name": "stdout",
          "text": [
            "1, 2, 3등의 점수는 다음과 같습니다.\n",
            "\n",
            "1등: 9.31\n",
            "2등: 9.11\n",
            "3등: 8.75\n"
          ]
        }
      ]
    },
    {
      "cell_type": "code",
      "source": [
        "scores_10m = {}\n",
        "\n",
        "with open(\"data/results10m.txt\", \"r\") as f:\n",
        "  for line in f:\n",
        "    name, s_10m = line.split()[:2]\n",
        "\n",
        "    try:\n",
        "      scores_10m[name] = float(s_10m)\n",
        "    except:\n",
        "      continue"
      ],
      "metadata": {
        "id": "DR_XFF155Ke4"
      },
      "execution_count": 20,
      "outputs": []
    },
    {
      "cell_type": "code",
      "source": [
        "scores_10m"
      ],
      "metadata": {
        "colab": {
          "base_uri": "https://localhost:8080/"
        },
        "id": "VqTZsumB7BEu",
        "outputId": "4f86e66a-cd48-4b35-ab30-fdf84f051c85"
      },
      "execution_count": 21,
      "outputs": [
        {
          "output_type": "execute_result",
          "data": {
            "text/plain": [
              "{'권준기': 9.11,\n",
              " '김세윤': 8.35,\n",
              " '나진서': 7.12,\n",
              " '마동탁': 8.65,\n",
              " '서길석': 9.31,\n",
              " '이준용': 8.71,\n",
              " '이차승': 7.33,\n",
              " '차승연': 9.11,\n",
              " '표방호': 8.75,\n",
              " '한석준': 8.39}"
            ]
          },
          "metadata": {},
          "execution_count": 21
        }
      ]
    },
    {
      "cell_type": "code",
      "source": [
        "sorted_scores_10m = sorted(scores_10m.items(), key = lambda item: item[1], reverse=True)\n",
        "sorted_scores_10m"
      ],
      "metadata": {
        "colab": {
          "base_uri": "https://localhost:8080/"
        },
        "id": "qtLcU2cN7XYI",
        "outputId": "0d7cb5c1-af47-44ab-dade-eaeb41fbd66a"
      },
      "execution_count": 22,
      "outputs": [
        {
          "output_type": "execute_result",
          "data": {
            "text/plain": [
              "[('서길석', 9.31),\n",
              " ('권준기', 9.11),\n",
              " ('차승연', 9.11),\n",
              " ('표방호', 8.75),\n",
              " ('이준용', 8.71),\n",
              " ('마동탁', 8.65),\n",
              " ('한석준', 8.39),\n",
              " ('김세윤', 8.35),\n",
              " ('이차승', 7.33),\n",
              " ('나진서', 7.12)]"
            ]
          },
          "metadata": {},
          "execution_count": 22
        }
      ]
    },
    {
      "cell_type": "code",
      "source": [
        "print(\"5미터 다이빙 경기 결과\\n\")\n",
        "item_list = []    # 중복 검사용\n",
        "\n",
        "count = 1\n",
        "for item in sorted_scores_10m:\n",
        "  if item[1] in item_list:\n",
        "    count -= 1\n",
        "  item_list.append(item[1])\n",
        "  print(f\"{count:>3}등: {item[0]} {item[1]}\")\n",
        "  count += 1"
      ],
      "metadata": {
        "colab": {
          "base_uri": "https://localhost:8080/"
        },
        "id": "cmzy1mti79RB",
        "outputId": "4b7ee27e-2ce1-45ab-83ce-a713d5f4e22b"
      },
      "execution_count": 23,
      "outputs": [
        {
          "output_type": "stream",
          "name": "stdout",
          "text": [
            "5미터 다이빙 경기 결과\n",
            "\n",
            "  1등: 서길석 9.31\n",
            "  2등: 권준기 9.11\n",
            "  2등: 차승연 9.11\n",
            "  3등: 표방호 8.75\n",
            "  4등: 이준용 8.71\n",
            "  5등: 마동탁 8.65\n",
            "  6등: 한석준 8.39\n",
            "  7등: 김세윤 8.35\n",
            "  8등: 이차승 7.33\n",
            "  9등: 나진서 7.12\n"
          ]
        }
      ]
    },
    {
      "cell_type": "markdown",
      "metadata": {
        "id": "2y-B3-0flqcF"
      },
      "source": [
        "**문제 8**"
      ]
    },
    {
      "cell_type": "markdown",
      "metadata": {
        "id": "PMSFHK5ilqcF"
      },
      "source": [
        "5미터 다이빙 기록과 10미터 다이빙 기록의 합에 대해 등수를 확인하는 코드를 작성하라."
      ]
    },
    {
      "cell_type": "code",
      "execution_count": 37,
      "metadata": {
        "id": "7eKFMLzwlqcF",
        "colab": {
          "base_uri": "https://localhost:8080/"
        },
        "outputId": "0631f31b-38b5-4896-a78b-d4d3a515ed83"
      },
      "outputs": [
        {
          "output_type": "execute_result",
          "data": {
            "text/plain": [
              "(PosixPath('data/results10m.txt'), <http.client.HTTPMessage at 0x7fdb9408ae90>)"
            ]
          },
          "metadata": {},
          "execution_count": 37
        }
      ],
      "source": [
        "# 코드를 작성하라.\n",
        "myWget(\"results5m.txt\")\n",
        "myWget(\"results10m.txt\")"
      ]
    },
    {
      "cell_type": "code",
      "source": [
        "scores_5m = {}\n",
        "\n",
        "with open(\"data/results5m.txt\", \"r\") as f:\n",
        "  for line in f:\n",
        "    name, s_5m = line.split()[:2]\n",
        "\n",
        "    try:\n",
        "      scores_5m[name] = float(s_5m)\n",
        "    except:\n",
        "      continue"
      ],
      "metadata": {
        "id": "4whDje0RlZQq"
      },
      "execution_count": 45,
      "outputs": []
    },
    {
      "cell_type": "code",
      "source": [
        "scores_10m = {}\n",
        "\n",
        "with open(\"data/results10m.txt\", \"r\") as f:\n",
        "  for line in f:\n",
        "    name, s_10m = line.split()[:2]\n",
        "\n",
        "    try:\n",
        "      scores_10m[name] = float(s_10m)\n",
        "    except:\n",
        "      continue"
      ],
      "metadata": {
        "id": "DIebPHx8mI5p"
      },
      "execution_count": 46,
      "outputs": []
    },
    {
      "cell_type": "code",
      "source": [
        "scores_5m"
      ],
      "metadata": {
        "colab": {
          "base_uri": "https://localhost:8080/"
        },
        "id": "Nk3UA1r-l4hR",
        "outputId": "df70d904-2e81-4221-b292-f2be9c9345aa"
      },
      "execution_count": 47,
      "outputs": [
        {
          "output_type": "execute_result",
          "data": {
            "text/plain": [
              "{'권준기': 7.13,\n",
              " '김세윤': 8.55,\n",
              " '나진서': 9.02,\n",
              " '마동탁': 8.35,\n",
              " '서길석': 7.86,\n",
              " '이준용': 8.17,\n",
              " '이차승': 9.33,\n",
              " '차승연': 7.11,\n",
              " '표방호': 8.57,\n",
              " '한석준': 8.93}"
            ]
          },
          "metadata": {},
          "execution_count": 47
        }
      ]
    },
    {
      "cell_type": "code",
      "source": [
        "scores_10m"
      ],
      "metadata": {
        "colab": {
          "base_uri": "https://localhost:8080/"
        },
        "id": "QZ1gsoTMmLQJ",
        "outputId": "c872abfc-b215-4489-c641-e8ed8d7b6b56"
      },
      "execution_count": 48,
      "outputs": [
        {
          "output_type": "execute_result",
          "data": {
            "text/plain": [
              "{'권준기': 9.11,\n",
              " '김세윤': 8.35,\n",
              " '나진서': 7.12,\n",
              " '마동탁': 8.65,\n",
              " '서길석': 9.31,\n",
              " '이준용': 8.71,\n",
              " '이차승': 7.33,\n",
              " '차승연': 9.11,\n",
              " '표방호': 8.75,\n",
              " '한석준': 8.39}"
            ]
          },
          "metadata": {},
          "execution_count": 48
        }
      ]
    },
    {
      "cell_type": "code",
      "source": [
        "total_scores = {}\n",
        "for name in scores_5m:\n",
        "  total_scores[name] = scores_5m[name] + scores_10m[name]\n",
        "total_scores"
      ],
      "metadata": {
        "colab": {
          "base_uri": "https://localhost:8080/"
        },
        "id": "txdrZLrCp8Vp",
        "outputId": "ba3a9583-5d9a-4212-c670-570c83888b40"
      },
      "execution_count": 72,
      "outputs": [
        {
          "output_type": "execute_result",
          "data": {
            "text/plain": [
              "{'권준기': 16.24,\n",
              " '김세윤': 16.9,\n",
              " '나진서': 16.14,\n",
              " '마동탁': 17.0,\n",
              " '서길석': 17.17,\n",
              " '이준용': 16.880000000000003,\n",
              " '이차승': 16.66,\n",
              " '차승연': 16.22,\n",
              " '표방호': 17.32,\n",
              " '한석준': 17.32}"
            ]
          },
          "metadata": {},
          "execution_count": 72
        }
      ]
    },
    {
      "cell_type": "code",
      "source": [
        "sorted_total_scores = sorted(total_scores.items(), key = lambda item: item[1], reverse=True)\n",
        "sorted_total_scores"
      ],
      "metadata": {
        "colab": {
          "base_uri": "https://localhost:8080/"
        },
        "id": "CwGMKsLWrLL4",
        "outputId": "51e74dc9-7ecc-4226-c005-b4fb5096d1c9"
      },
      "execution_count": 74,
      "outputs": [
        {
          "output_type": "execute_result",
          "data": {
            "text/plain": [
              "[('표방호', 17.32),\n",
              " ('한석준', 17.32),\n",
              " ('서길석', 17.17),\n",
              " ('마동탁', 17.0),\n",
              " ('김세윤', 16.9),\n",
              " ('이준용', 16.880000000000003),\n",
              " ('이차승', 16.66),\n",
              " ('권준기', 16.24),\n",
              " ('차승연', 16.22),\n",
              " ('나진서', 16.14)]"
            ]
          },
          "metadata": {},
          "execution_count": 74
        }
      ]
    },
    {
      "cell_type": "code",
      "source": [
        "print(\"토탈 다이빙 경기 결과\\n\")\n",
        "item_list = []    # 중복 검사용\n",
        "\n",
        "count = 1\n",
        "for item in sorted_total_scores:\n",
        "  if item[1] in item_list:\n",
        "    count -= 1\n",
        "  item_list.append(item[1])\n",
        "  print(f\"{count:>3}등: {item[0]} {round(item[1],2)}\")\n",
        "  count += 1"
      ],
      "metadata": {
        "colab": {
          "base_uri": "https://localhost:8080/"
        },
        "id": "JbcxICp9rZYp",
        "outputId": "05a08d6c-6f44-48dc-942d-9a3bcfbff92e"
      },
      "execution_count": 78,
      "outputs": [
        {
          "output_type": "stream",
          "name": "stdout",
          "text": [
            "토탈 다이빙 경기 결과\n",
            "\n",
            "  1등: 표방호 17.32\n",
            "  1등: 한석준 17.32\n",
            "  2등: 서길석 17.17\n",
            "  3등: 마동탁 17.0\n",
            "  4등: 김세윤 16.9\n",
            "  5등: 이준용 16.88\n",
            "  6등: 이차승 16.66\n",
            "  7등: 권준기 16.24\n",
            "  8등: 차승연 16.22\n",
            "  9등: 나진서 16.14\n"
          ]
        }
      ]
    }
  ],
  "metadata": {
    "colab": {
      "provenance": [],
      "include_colab_link": true
    },
    "kernelspec": {
      "display_name": "Python 3 (ipykernel)",
      "language": "python",
      "name": "python3"
    },
    "language_info": {
      "codemirror_mode": {
        "name": "ipython",
        "version": 3
      },
      "file_extension": ".py",
      "mimetype": "text/x-python",
      "name": "python",
      "nbconvert_exporter": "python",
      "pygments_lexer": "ipython3",
      "version": "3.9.13"
    }
  },
  "nbformat": 4,
  "nbformat_minor": 0
}