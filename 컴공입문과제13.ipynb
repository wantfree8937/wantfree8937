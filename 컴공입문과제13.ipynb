{
  "cells": [
    {
      "cell_type": "markdown",
      "metadata": {
        "id": "view-in-github",
        "colab_type": "text"
      },
      "source": [
        "<a href=\"https://colab.research.google.com/github/wantfree8937/wantfree8937/blob/main/%EC%BB%B4%EA%B3%B5%EC%9E%85%EB%AC%B8%EA%B3%BC%EC%A0%9C13.ipynb\" target=\"_parent\"><img src=\"https://colab.research.google.com/assets/colab-badge.svg\" alt=\"Open In Colab\"/></a>"
      ]
    },
    {
      "cell_type": "markdown",
      "id": "72ba1600",
      "metadata": {
        "id": "72ba1600"
      },
      "source": [
        "# (실습) 클래스, 인스턴스, 객체"
      ]
    },
    {
      "cell_type": "markdown",
      "id": "bcc8fd8e",
      "metadata": {
        "id": "bcc8fd8e"
      },
      "source": [
        "**참고**\n",
        "\n",
        "[클래스, 인스턴스, 객체](https://codingalzi.github.io/pybook/classes_instances_objects.html)에서\n",
        "소개한 `Fraction` 클래스와 연관된 문제들이다."
      ]
    },
    {
      "cell_type": "code",
      "source": [
        "def gcd(m, n):\n",
        "    while abs(m) % abs(n) != 0:\n",
        "        m, n = abs(n), abs(m) % abs(n)\n",
        "    return abs(n)"
      ],
      "metadata": {
        "id": "QlFf1IEREdn-"
      },
      "id": "QlFf1IEREdn-",
      "execution_count": 13,
      "outputs": []
    },
    {
      "cell_type": "code",
      "execution_count": 14,
      "id": "8911fdf9",
      "metadata": {
        "id": "8911fdf9"
      },
      "outputs": [],
      "source": [
        "class Fraction:\n",
        "    \"\"\"Fraction 클래스\"\"\"\n",
        "\n",
        "    def __init__(self, top, bottom):\n",
        "        \"\"\"생성자 메서드\n",
        "        top: 분자\n",
        "        bottom: 분모\n",
        "        \"\"\"\n",
        "        try :\n",
        "            if isinstance(top, int) and isinstance(bottom, int):\n",
        "              self.top = int(top / gcd(top, bottom))\n",
        "              self.bottom = int(bottom / gcd(top, bottom))\n",
        "            else:\n",
        "              raise\n",
        "        except : \n",
        "            print(\"분모와 분자에 정수를 입력해주세요.\")\n",
        "\n",
        "    def __repr__(self):\n",
        "        return f\"{self.top}/{self.bottom}\"\n",
        "\n",
        "    def __add__(self, other_fraction):\n",
        "        new_top = self.top * other_fraction.bottom + \\\n",
        "                     self.bottom * other_fraction.top\n",
        "        new_bottom = self.bottom * other_fraction.bottom\n",
        "        common = gcd(new_top, new_bottom)\n",
        "        \n",
        "        return Fraction(new_top // common, new_bottom // common)\n",
        "\n",
        "    def __eq__(self, other_fraction):\n",
        "        first_top = self.top * other_fraction.bottom\n",
        "        second_top = other_fraction.top * self.bottom\n",
        "\n",
        "        return first_top == second_top\n",
        "    \n",
        "    def numerator(self):\n",
        "        return self.top\n",
        "\n",
        "    def denominator(self):\n",
        "        return self.bottom\n",
        "    \n",
        "    def to_float(self):\n",
        "        return self.numerator() / self.denominator()\n",
        "\n",
        "    def __sub__(self, other_fraction):\n",
        "        new_top = self.top * other_fraction.bottom - \\\n",
        "                    self.bottom * other_fraction.top\n",
        "        new_bottom = self.bottom * other_fraction.bottom\n",
        "        common = gcd(new_top, new_bottom)\n",
        "\n",
        "        return Fraction(new_top // common, new_bottom // common)\n",
        "    \n",
        "    def __mul__(self, other_fraction):\n",
        "        new_top = self.top * other_fraction.top\n",
        "        new_bottom = self.bottom * other_fraction.bottom\n",
        "\n",
        "        return Fraction(new_top, new_bottom)\n",
        "    \n",
        "    def __truediv__(self, other_fraction):\n",
        "        new_top = self.top * other_fraction.bottom\n",
        "        new_bottom = self.bottom * other_fraction.top\n",
        "\n",
        "        return Fraction(new_top, new_bottom)\n",
        "\n",
        "    def __ne__(self, other_fraction):\n",
        "        first_top = self.top * other_fraction.bottom\n",
        "        second_top = other_fraction.top * self.bottom\n",
        "\n",
        "        return first_top != second_top\n",
        "    \n",
        "    def __gt__(self, other_fraction):\n",
        "        first_top = self.top * other_fraction.bottom\n",
        "        second_top = other_fraction.top * self.bottom\n",
        "\n",
        "        return first_top > second_top\n",
        "    \n",
        "    def __ge__(self, other_fraction):\n",
        "        first_top = self.top * other_fraction.bottom\n",
        "        second_top = other_fraction.top * self.bottom\n",
        "\n",
        "        return first_top >= second_top\n",
        "    \n",
        "    def __lt__(self, other_fraction):\n",
        "        first_top = self.top * other_fraction.bottom\n",
        "        second_top = other_fraction.top * self.bottom\n",
        "\n",
        "        return first_top < second_top\n",
        "    \n",
        "    def __le__(self, other_fraction):\n",
        "        first_top = self.top * other_fraction.bottom\n",
        "        second_top = other_fraction.top * self.bottom\n",
        "\n",
        "        return first_top <= second_top"
      ]
    },
    {
      "cell_type": "code",
      "execution_count": 15,
      "id": "ea04d0f8",
      "metadata": {
        "id": "ea04d0f8"
      },
      "outputs": [],
      "source": [
        "f1 = Fraction(2, 3)\n",
        "f3 = Fraction(1, 4)"
      ]
    },
    {
      "cell_type": "markdown",
      "id": "6d31d67f",
      "metadata": {
        "id": "6d31d67f"
      },
      "source": [
        "**문제 1**"
      ]
    },
    {
      "cell_type": "markdown",
      "id": "e9a13f6a",
      "metadata": {
        "id": "e9a13f6a"
      },
      "source": [
        "`Fraction` 클래스가 뺄셈, 곱셈, 나눗셈을 지원하도록 \n",
        "다음 연산자들을 구현하라.\n",
        "\n",
        "* `__sub__()`\n",
        "* `__mul__()`\n",
        "* `__truediv__()`"
      ]
    },
    {
      "cell_type": "code",
      "execution_count": 16,
      "id": "be758e75",
      "metadata": {
        "id": "be758e75"
      },
      "outputs": [],
      "source": [
        "# 아래 코드의 주석을 해제하고 실행하라.\n",
        "\n",
        "assert f1 - f3 == Fraction(5, 12)\n",
        "assert f1 * f3 == Fraction(1, 6)\n",
        "assert f1 / f3 == Fraction(8, 3)"
      ]
    },
    {
      "cell_type": "markdown",
      "id": "baf89122",
      "metadata": {
        "id": "baf89122"
      },
      "source": [
        "**문제 2**"
      ]
    },
    {
      "cell_type": "markdown",
      "id": "1000b8dd",
      "metadata": {
        "id": "1000b8dd"
      },
      "source": [
        "`Fraction` 클래스가 크기비교를 지원하도록\n",
        "다음 비교 연산자들을 구현하라.\n",
        "\n",
        "* `__ne__()`\n",
        "* `__gt__()`\n",
        "* `__ge__()`\n",
        "* `__lt__()`\n",
        "* `__le__()`"
      ]
    },
    {
      "cell_type": "code",
      "execution_count": 17,
      "id": "55e5d4db",
      "metadata": {
        "id": "55e5d4db"
      },
      "outputs": [],
      "source": [
        "# 아래 코드의 주석을 해제하고 실행하라.\n",
        "\n",
        "assert (f1 != f3) == True\n",
        "assert (f1 > f3) == True\n",
        "assert (f1 >= f3) == True\n",
        "assert (f1 < f3) == False\n",
        "assert (f1 <= f3) == False"
      ]
    },
    {
      "cell_type": "markdown",
      "id": "bef9ea1a",
      "metadata": {
        "id": "bef9ea1a"
      },
      "source": [
        "**문제 3**"
      ]
    },
    {
      "cell_type": "markdown",
      "id": "bfdcfce5",
      "metadata": {
        "id": "bfdcfce5"
      },
      "source": [
        "`Fraction` 클래스의 객체가 항상 기약분수의 형태로 분모와 분자를 사용하도록 \n",
        "`__init__()` 메서드를 수정하고 활용예제를 제시하라. \n",
        "\n",
        "힌트: 최대공약수를 계산하는 함수를 활용해야 한다.\n",
        "또한 `__add__()` 등 연산 메서드에서 더 이상 기약분수로 변환할 필요가 없어진다."
      ]
    },
    {
      "cell_type": "code",
      "source": [
        "f2 = Fraction(4, 12)\n",
        "f2"
      ],
      "metadata": {
        "colab": {
          "base_uri": "https://localhost:8080/"
        },
        "id": "S4MOLlIlfFgX",
        "outputId": "42bbae68-2297-49ac-c614-d30139284f37"
      },
      "id": "S4MOLlIlfFgX",
      "execution_count": 18,
      "outputs": [
        {
          "output_type": "execute_result",
          "data": {
            "text/plain": [
              "1/3"
            ]
          },
          "metadata": {},
          "execution_count": 18
        }
      ]
    },
    {
      "cell_type": "markdown",
      "id": "7966e144",
      "metadata": {
        "id": "7966e144"
      },
      "source": [
        "**문제 4**"
      ]
    },
    {
      "cell_type": "markdown",
      "id": "0c836c07",
      "metadata": {
        "id": "0c836c07"
      },
      "source": [
        "분자와 분모로 입력된 값이 정수임을 확인하도록 생성자 메서드를 수정하고 활용예제를 제시하라.\n",
        "정수 이외의 값이 입력되면 예외가 발생하도록 해야 한다.\n",
        "\n",
        "힌트: `try-except` 명령문, `isinstance()` 함수"
      ]
    },
    {
      "cell_type": "code",
      "source": [
        "f4 = Fraction(0.5, 12)"
      ],
      "metadata": {
        "colab": {
          "base_uri": "https://localhost:8080/"
        },
        "id": "ZrA2CQxOfzDC",
        "outputId": "3f9fde3f-e54c-4848-c7cf-56d284b21462"
      },
      "id": "ZrA2CQxOfzDC",
      "execution_count": 19,
      "outputs": [
        {
          "output_type": "stream",
          "name": "stdout",
          "text": [
            "분모와 분자에 정수를 입력해주세요.\n"
          ]
        }
      ]
    },
    {
      "cell_type": "markdown",
      "id": "67f8bb46",
      "metadata": {
        "id": "67f8bb46"
      },
      "source": [
        "**문제 5**"
      ]
    },
    {
      "cell_type": "markdown",
      "id": "c34677c7",
      "metadata": {
        "id": "c34677c7"
      },
      "source": [
        "앞서 사용한 유클리드 호젯법 알고리즘은 양의 정수에 대해서만 옳바르게 작동한다.\n",
        "예를 들어 아래의 경우처럼 잘못 계산한다. \n",
        "참고로 최대공약수는 항상 양수이어야 한다.\n",
        "\n",
        "```python\n",
        ">>> gcd(8, -2)\n",
        "-2\n",
        "```\n",
        "\n",
        "이는 음의 분수를 사용할 때 `Fraction` 클래스의 기능에 문제가 발생할 수 있음을 의미한다.\n",
        "\n",
        "유클리드 호젯법 대신에 다른 알고리즘을 사용하는 `gcd()` 함수를 구현하고\n",
        "이를 `Fraction` 클래스에 활용하는 예제를 제시하라.\n",
        "단, 양수, 음수 모두 문제없이 처리해야 한다."
      ]
    },
    {
      "cell_type": "code",
      "source": [
        "gcd(4, -8)"
      ],
      "metadata": {
        "colab": {
          "base_uri": "https://localhost:8080/"
        },
        "id": "s26fK8x9FuNP",
        "outputId": "df780f30-4197-4797-ecba-874b0b1ae5e7"
      },
      "id": "s26fK8x9FuNP",
      "execution_count": 20,
      "outputs": [
        {
          "output_type": "execute_result",
          "data": {
            "text/plain": [
              "4"
            ]
          },
          "metadata": {},
          "execution_count": 20
        }
      ]
    },
    {
      "cell_type": "code",
      "source": [
        "f5 = Fraction(4, -8)\n",
        "f5"
      ],
      "metadata": {
        "colab": {
          "base_uri": "https://localhost:8080/"
        },
        "id": "MD5yjX9ZpVxM",
        "outputId": "400cb68f-052f-4f70-cb04-862f9d2ae513"
      },
      "id": "MD5yjX9ZpVxM",
      "execution_count": 21,
      "outputs": [
        {
          "output_type": "execute_result",
          "data": {
            "text/plain": [
              "1/-2"
            ]
          },
          "metadata": {},
          "execution_count": 21
        }
      ]
    },
    {
      "cell_type": "markdown",
      "id": "bf3417ac",
      "metadata": {
        "id": "bf3417ac"
      },
      "source": [
        "**문제 6**"
      ]
    },
    {
      "cell_type": "markdown",
      "id": "7fcb79c0",
      "metadata": {
        "id": "7fcb79c0"
      },
      "source": [
        "`__radd__()` 메서드가 `__add__()` 어떻게 다른지 확인하고\n",
        "활용예제를 제시하라."
      ]
    },
    {
      "cell_type": "markdown",
      "source": [
        "__add__()는 self + other 일때\n",
        "\n",
        "__radd__()는 other + self"
      ],
      "metadata": {
        "id": "kf0I8eYE17Q8"
      },
      "id": "kf0I8eYE17Q8"
    },
    {
      "cell_type": "markdown",
      "id": "cc260fe7",
      "metadata": {
        "id": "cc260fe7"
      },
      "source": [
        "**문제 7**"
      ]
    },
    {
      "cell_type": "markdown",
      "id": "7417a353",
      "metadata": {
        "id": "7417a353"
      },
      "source": [
        "`__iadd__()` 메서드가 `__add__()` 어떻게 다른지 확인하고\n",
        "활용예제를 제시하라."
      ]
    },
    {
      "cell_type": "markdown",
      "source": [
        "__add__()는 a = a + 1 일때\n",
        "\n",
        "__iadd__()는 a += 1"
      ],
      "metadata": {
        "id": "W5qgz_F-2NWl"
      },
      "id": "W5qgz_F-2NWl"
    },
    {
      "cell_type": "markdown",
      "id": "098257b4",
      "metadata": {
        "id": "098257b4"
      },
      "source": [
        "**문제 8**"
      ]
    },
    {
      "cell_type": "markdown",
      "id": "e9f532b3",
      "metadata": {
        "id": "e9f532b3"
      },
      "source": [
        "컴퓨터가 제공하는 부동소수점은 불완전하다.\n",
        "예를 들어, 아래 코드는 10분의 1을 10번 더했을 때 \n",
        "1이 계산되지 않음을 보여준다."
      ]
    },
    {
      "cell_type": "code",
      "execution_count": 29,
      "id": "03e378e6",
      "metadata": {
        "id": "03e378e6",
        "outputId": "4b988da7-aa1e-4344-9ec1-e6eea8ebdd33",
        "colab": {
          "base_uri": "https://localhost:8080/"
        }
      },
      "outputs": [
        {
          "output_type": "stream",
          "name": "stdout",
          "text": [
            "0.9999999999999999\n",
            "False\n"
          ]
        }
      ],
      "source": [
        "x = 0.1\n",
        "y = 0\n",
        "\n",
        "for _ in range(10): \n",
        "    y += x\n",
        "    \n",
        "print(y)    \n",
        "print(y == 1.0)"
      ]
    },
    {
      "cell_type": "markdown",
      "id": "29787b22",
      "metadata": {
        "id": "29787b22"
      },
      "source": [
        "분수 클래스 `Fraction`를 이용하면 보다 엄밀한 계산이 가능함을 보여라.\n",
        "\n",
        "힌트: `to_float()` 메서드 활용"
      ]
    },
    {
      "cell_type": "code",
      "execution_count": 41,
      "id": "e1a9be1c",
      "metadata": {
        "id": "e1a9be1c"
      },
      "outputs": [],
      "source": [
        "# pass 를 적적할 코드로 변경한 다음에 assert 문의 주석을 해제하고 실행하라.\n",
        "\n",
        "fx = Fraction(1, 10)\n",
        "fy = Fraction(0, 1)\n",
        "\n",
        "for _ in range(10):\n",
        "  fy += fx\n",
        "\n",
        "assert fy.to_float() == 1.0"
      ]
    }
  ],
  "metadata": {
    "kernelspec": {
      "display_name": "Python 3 (ipykernel)",
      "language": "python",
      "name": "python3"
    },
    "language_info": {
      "codemirror_mode": {
        "name": "ipython",
        "version": 3
      },
      "file_extension": ".py",
      "mimetype": "text/x-python",
      "name": "python",
      "nbconvert_exporter": "python",
      "pygments_lexer": "ipython3",
      "version": "3.9.7"
    },
    "colab": {
      "provenance": [],
      "include_colab_link": true
    }
  },
  "nbformat": 4,
  "nbformat_minor": 5
}