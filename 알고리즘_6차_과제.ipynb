{
  "cells": [
    {
      "cell_type": "markdown",
      "metadata": {
        "id": "view-in-github",
        "colab_type": "text"
      },
      "source": [
        "<a href=\"https://colab.research.google.com/github/wantfree8937/wantfree8937/blob/main/%EC%95%8C%EA%B3%A0%EB%A6%AC%EC%A6%98_6%EC%B0%A8_%EA%B3%BC%EC%A0%9C.ipynb\" target=\"_parent\"><img src=\"https://colab.research.google.com/assets/colab-badge.svg\" alt=\"Open In Colab\"/></a>"
      ]
    },
    {
      "cell_type": "markdown",
      "metadata": {
        "id": "4C3fnOkt31j2"
      },
      "source": [
        "# (실습) 버블/선택/합병/퀵 정렬"
      ]
    },
    {
      "cell_type": "markdown",
      "metadata": {
        "id": "3dMHhn1131j7"
      },
      "source": [
        "**문제 1**"
      ]
    },
    {
      "cell_type": "markdown",
      "metadata": {
        "id": "0GhRrmPD31j7"
      },
      "source": [
        "아래 리스트에 대해\n",
        "버블정렬, 선택정렬, 합병정렬, 퀵정렬 알고리즘이 적용되는 과정을 묘사하라.\n",
        "\n",
        "`[1, 2, 3, 4, 5, 6, 7, 8, 9, 10]`"
      ]
    },
    {
      "cell_type": "markdown",
      "source": [
        "답: 버블정렬은 n-1와 n번째 인덱스끼리 비교정렬하며 한 번의 패스에서 자리교환이\n",
        "일어나지 않으면 조기종료할 수 있다. 따라서 위의 리스트에서 첫번째 패스에서 조기종료할 수 있다.\n",
        "\n",
        "\n",
        "---\n",
        "\n",
        "\n",
        "선택정렬은 리스트에서 가장 큰 수가 교환되지 않았던 가장 뒤에 인덱스와 교환한다. 위의 리스트는 이미 정렬 되어있기 때문에 10번의 패스동안 자리교환은 없다.\n",
        "\n",
        "\n",
        "---\n",
        "\n",
        "\n",
        "합병정렬은 리스트가 1이 될 때까지 분할하고 갈라진 리스트들 끼리 비교 정렬하며 합병한다. 위의 리스트에서 각각 9번의 분할과 합병이 이루어지며 합병과정에서 자리교환은 없다.\n",
        "\n",
        "\n",
        "---\n",
        "\n",
        "\n",
        "퀵정렬은 리스트에서 피벗(기준값)을 기준으로 작은값은 왼쪽으로 큰값은 오른쪽으로 이동시키며. 한번의 교환 후 피벗 기준 왼쪽 리스트와 오른쪽 리스트로 나누어 같은 과정을 반복한다. 위와같이 이미 정렬된 리스트에서 퀵정렬을 쓸 경우 피벗을 1로 지정하면 O(n^2)의 시간복잡도가 나올수 있다.\n"
      ],
      "metadata": {
        "id": "CWOo3QKk4xDu"
      }
    },
    {
      "cell_type": "markdown",
      "metadata": {
        "id": "K8xZ1CwV31j8"
      },
      "source": [
        "**문제 2**"
      ]
    },
    {
      "cell_type": "markdown",
      "metadata": {
        "id": "k12xWpah31j9"
      },
      "source": [
        "`mergesort()` 함수에 사용된 알고리즘을 수정하여\n",
        "재귀에 사용된 슬라이싱 대신 구간 지정방식을 사용하는 재귀 합병 알고리즘을 구현하라.\n",
        "\n",
        "힌트: 합병을 담당하는 함수를 따로 정의해서 분할 재귀함수에 활용한다."
      ]
    },
    {
      "cell_type": "markdown",
      "metadata": {
        "id": "j320_Aec31j9"
      },
      "source": [
        "**문제 3**"
      ]
    },
    {
      "cell_type": "markdown",
      "metadata": {
        "id": "suGPksjq31j-"
      },
      "source": [
        "버블정렬 알고리즘을 패스별로 최댓값을 오른편으로 보내는 것과\n",
        "최솟값을 왼편으로 보내는 과정을 번갈아 실행하도록 수정하라."
      ]
    },
    {
      "cell_type": "code",
      "source": [
        "def bubble_sort(a_list):\n",
        "    for a_pass in range(len(a_list) - 1, 0, -1):  # 패스. 자리교환 인덱스 끝자리 지정\n",
        "        max_idx = 0\n",
        "        min_idx = 0\n",
        "        for j in range(a_pass):\n",
        "            if a_list[j] > a_list[max_idx]:\n",
        "                max_idx = j\n",
        "            if a_list[j] < a_list[min_idx]:\n",
        "                min_idx = j\n",
        "        if a_list[max_idx] > a_list[a_pass]:\n",
        "            a_list[max_idx], a_list[a_pass] = a_list[a_pass], a_list[max_idx]\n",
        "        if a_list[min_idx] < a_list[a_pass]:\n",
        "            a_list[min_idx], a_list[a_pass] = a_list[a_pass], a_list[min_idx]"
      ],
      "metadata": {
        "id": "CgVJHQuMNsI7"
      },
      "execution_count": 2,
      "outputs": []
    },
    {
      "cell_type": "markdown",
      "metadata": {
        "id": "YztcFiNF31j-"
      },
      "source": [
        "**문제 4**"
      ]
    },
    {
      "cell_type": "markdown",
      "metadata": {
        "id": "xcaIzR4O31j_"
      },
      "source": [
        "재귀를 사용하지 않으면서 `mergesort()` 함수를 구현한 후에 제대로 작동함을 확인하라.\n",
        "\n",
        "참고: [Iterative Merge Sort](https://www.geeksforgeeks.org/iterative-merge-sort/)"
      ]
    },
    {
      "cell_type": "markdown",
      "metadata": {
        "id": "gKvrS-dP31j_"
      },
      "source": [
        "**문제 5**"
      ]
    },
    {
      "cell_type": "markdown",
      "metadata": {
        "id": "OTigCCvG31kA"
      },
      "source": [
        "퀵정렬 알고리즘의 피벗 선택을 달리하는 알고리즘을 구현하라.\n",
        "또한 달라진 피벗 선택이 보다 효율적으로 작동하는 경우에 대한 기준을 설명하라.\n",
        "\n",
        "1. 중앙에 위치한 값 선택\n",
        "1. 처음, 끝, 중앙에 위치한 값들의 중앙값 선택"
      ]
    },
    {
      "cell_type": "markdown",
      "metadata": {
        "id": "I8p9qcey31kA"
      },
      "source": [
        "**문제 6**"
      ]
    },
    {
      "cell_type": "markdown",
      "metadata": {
        "id": "L_lNSlVH31kA"
      },
      "source": [
        "재귀를 사용하지 않으면서 `quick_sort()` 함수를 구현한 후에 제대로 작동함을 확인하라.\n",
        "\n",
        "참고: [Iterative Quick Sort](https://www.geeksforgeeks.org/iterative-quick-sort/)"
      ]
    }
  ],
  "metadata": {
    "kernelspec": {
      "display_name": "Python 3 (ipykernel)",
      "language": "python",
      "name": "python3"
    },
    "language_info": {
      "codemirror_mode": {
        "name": "ipython",
        "version": 3
      },
      "file_extension": ".py",
      "mimetype": "text/x-python",
      "name": "python",
      "nbconvert_exporter": "python",
      "pygments_lexer": "ipython3",
      "version": "3.11.4"
    },
    "vscode": {
      "interpreter": {
        "hash": "ad0f3c8a064f687cbf898a0868fd45ba1c7e928ac8a0404f7c241d812ddc1e76"
      }
    },
    "colab": {
      "provenance": [],
      "include_colab_link": true
    }
  },
  "nbformat": 4,
  "nbformat_minor": 0
}