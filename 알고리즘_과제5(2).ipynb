{
  "cells": [
    {
      "cell_type": "markdown",
      "metadata": {
        "id": "view-in-github",
        "colab_type": "text"
      },
      "source": [
        "<a href=\"https://colab.research.google.com/github/wantfree8937/wantfree8937/blob/main/%EC%95%8C%EA%B3%A0%EB%A6%AC%EC%A6%98_%EA%B3%BC%EC%A0%9C5(2).ipynb\" target=\"_parent\"><img src=\"https://colab.research.google.com/assets/colab-badge.svg\" alt=\"Open In Colab\"/></a>"
      ]
    },
    {
      "cell_type": "markdown",
      "id": "f0d7a1e2",
      "metadata": {
        "id": "f0d7a1e2"
      },
      "source": [
        "# (실습) 차수"
      ]
    },
    {
      "cell_type": "markdown",
      "id": "be4fdfbd",
      "metadata": {
        "id": "be4fdfbd"
      },
      "source": [
        "**문제 1**"
      ]
    },
    {
      "cell_type": "markdown",
      "id": "772a9059",
      "metadata": {
        "id": "772a9059"
      },
      "source": [
        "다음이 성립하는 이유를 설명하라."
      ]
    },
    {
      "cell_type": "markdown",
      "id": "c4d16cc2",
      "metadata": {
        "id": "c4d16cc2"
      },
      "source": [
        "$$\\log_4 n \\in \\Theta(\\log n)$$"
      ]
    },
    {
      "cell_type": "markdown",
      "source": [
        "$n >= 1$인 경우 다음 부등식이 참이다.\n",
        "\n",
        "$log_4n <= 2log(n) $\n",
        "\n",
        "따라서 $c = 2$와 $N=10$을 선택하면 성립한다."
      ],
      "metadata": {
        "id": "Xw7x18-Hfj21"
      },
      "id": "Xw7x18-Hfj21"
    },
    {
      "cell_type": "markdown",
      "id": "23f00726",
      "metadata": {
        "id": "23f00726"
      },
      "source": [
        "**문제 2**"
      ]
    },
    {
      "cell_type": "markdown",
      "id": "5cd2c851",
      "metadata": {
        "id": "5cd2c851"
      },
      "source": [
        "다음이 성립하는 이유를 설명하라."
      ]
    },
    {
      "cell_type": "markdown",
      "id": "d6a56329",
      "metadata": {
        "id": "d6a56329"
      },
      "source": [
        "$$7 n^2 \\in \\Theta(n^2)$$"
      ]
    },
    {
      "cell_type": "markdown",
      "source": [
        "모든 정수 $n$에 대하여 다음 부등식이 참이다.\n",
        "\n",
        "$7n^2 <= 7n^2$\n",
        "\n",
        "따라서 $c = 7$과 $N = 1$을 선택하면 성립한다."
      ],
      "metadata": {
        "id": "12F0ON5krmg5"
      },
      "id": "12F0ON5krmg5"
    },
    {
      "cell_type": "markdown",
      "id": "fea5cca3",
      "metadata": {
        "id": "fea5cca3"
      },
      "source": [
        "**문제 3**"
      ]
    },
    {
      "cell_type": "markdown",
      "id": "2329d2ad",
      "metadata": {
        "id": "2329d2ad"
      },
      "source": [
        "다음이 성립하는 이유를 설명하라."
      ]
    },
    {
      "cell_type": "markdown",
      "id": "15576b60",
      "metadata": {
        "id": "15576b60"
      },
      "source": [
        "$$10\\, n\\, \\log n + 7 n^2 \\in \\Theta(n^2)$$"
      ]
    },
    {
      "cell_type": "markdown",
      "source": [
        "임의의 양의 정수 $n$에 대하여 다음 부등식이 참이다.\n",
        "\n",
        "$10\\, n\\, \\log n + 7 n^2 <= 9n^2$\n",
        "\n",
        "따라서 $c=9$와 $N=1$을 선택하면 성립한다."
      ],
      "metadata": {
        "id": "vaWaK5d8uDNm"
      },
      "id": "vaWaK5d8uDNm"
    },
    {
      "cell_type": "markdown",
      "id": "cc3c3006",
      "metadata": {
        "id": "cc3c3006"
      },
      "source": [
        "**문제 4**"
      ]
    },
    {
      "cell_type": "markdown",
      "id": "b9da3e03",
      "metadata": {
        "id": "b9da3e03"
      },
      "source": [
        "다음이 성립하는 이유를 설명하라."
      ]
    },
    {
      "cell_type": "markdown",
      "id": "0c4b15c9",
      "metadata": {
        "id": "0c4b15c9"
      },
      "source": [
        "$$3\\, \\log n + 10 n\\, \\log n + 7 n^2 \\in \\Theta(n^2)$$"
      ]
    },
    {
      "cell_type": "markdown",
      "source": [
        "임의의 양의 정수 $n$에 대하여 다음 부등식이 참이다.\n",
        "\n",
        "$3\\, \\log n + 10 n\\, \\log n + 7 n^2 <= 9n^2$\n",
        "\n",
        "따라서 $c=9$와 $N=1$을 선택하면 성립한다."
      ],
      "metadata": {
        "id": "q3TEIKipu9iA"
      },
      "id": "q3TEIKipu9iA"
    },
    {
      "cell_type": "markdown",
      "id": "292b4ad6",
      "metadata": {
        "id": "292b4ad6"
      },
      "source": [
        "**문제 5**"
      ]
    },
    {
      "cell_type": "markdown",
      "id": "3d9cc0e7",
      "metadata": {
        "id": "3d9cc0e7"
      },
      "source": [
        "다음이 성립하는 이유를 설명하라."
      ]
    },
    {
      "cell_type": "markdown",
      "id": "81c7f14d",
      "metadata": {
        "id": "81c7f14d"
      },
      "source": [
        "$$5n + 3\\, \\log n + 10 n\\, \\log n + 7 n^2 \\in \\Theta(n^2)$$"
      ]
    },
    {
      "cell_type": "markdown",
      "source": [
        "임의의 양의 정수 $n$에 대하여 다음 부등식이 참이다.\n",
        "\n",
        "$3\\, \\log n + 10 n\\, \\log n + 7 n^2 <= 13n^2$\n",
        "\n",
        "따라서 $c=13$ 과 $N=1$을 선택하면 성립한다."
      ],
      "metadata": {
        "id": "tsH1HsUswK3Q"
      },
      "id": "tsH1HsUswK3Q"
    }
  ],
  "metadata": {
    "kernelspec": {
      "display_name": "Python 3 (ipykernel)",
      "language": "python",
      "name": "python3"
    },
    "language_info": {
      "codemirror_mode": {
        "name": "ipython",
        "version": 3
      },
      "file_extension": ".py",
      "mimetype": "text/x-python",
      "name": "python",
      "nbconvert_exporter": "python",
      "pygments_lexer": "ipython3",
      "version": "3.11.4"
    },
    "colab": {
      "provenance": [],
      "include_colab_link": true
    }
  },
  "nbformat": 4,
  "nbformat_minor": 5
}